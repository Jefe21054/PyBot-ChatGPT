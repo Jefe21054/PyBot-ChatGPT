{
 "cells": [
  {
   "cell_type": "code",
   "execution_count": 34,
   "metadata": {},
   "outputs": [],
   "source": [
    "from llama_index import SimpleDirectoryReader, GPTListIndex, GPTVectorStoreIndex, LLMPredictor, PromptHelper, ServiceContext, StorageContext, load_index_from_storage\n",
    "import os\n",
    "import gradio as gr\n",
    "from langchain.embeddings import OpenAIEmbeddings\n",
    "from langchain import OpenAI"
   ]
  },
  {
   "cell_type": "code",
   "execution_count": 25,
   "metadata": {},
   "outputs": [
    {
     "name": "stdout",
     "output_type": "stream",
     "text": [
      "Llave cargada\n"
     ]
    }
   ],
   "source": [
    "from dotenv import load_dotenv\n",
    "\n",
    "load_dotenv('.env')\n",
    "\n",
    "os.environ.get('OPENAI_API_KEY')\n",
    "\n",
    "print('Llave cargada')"
   ]
  },
  {
   "cell_type": "code",
   "execution_count": 14,
   "metadata": {},
   "outputs": [
    {
     "data": {
      "text/plain": [
       "[Document(text='La Importancia De La Inteligencia Artificial en la Vida Del Ser\\nHumano\\nPara iniciar déjame hacerte una pregunta ¿cuál es tu red social favorita? Sea cual sea, todas utilizan\\ninteligencia artificial. La Inteligencia artificial logra que las máquinas tengan conocimientos de tus\\nhábitos, desde procesos básicos hasta situaciones más avanzadas como el reconocimiento de tu voz,\\nentre otras cosas. Pero ¿qué es la Inteligencia Artificial? ¿por qué es importante para el ser humano?\\nEn este artículo, se responderán estas cuestiones.\\nInteligencia Artificial\\nLa Inteligencia artificial es la combinación de algoritmos desarrollados con la finalidad de crear\\nprogramas y mecanismos que tengan capacidades similares al del ser humano. En un concepto\\npráctico, se puede decir que la IA, es que las máquinas hagan y piensen como seres humanos.\\nJohn McCarthy en 1956 emitió el término Inteligencia Artificial y lo definió como “la ciencia y el ingenio\\nde hacer máquinas inteligentes, especialmente programas informáticos inteligentes”.\\nLa IA posee un gran potencial para resolver problemas difíciles del presente y del futuro, y tiene un\\nimpacto mayúsculo en el ser humano.\\nCon la IA las computadoras empiezan a pensar, a reescribir y rediseñar sus propios programas.\\nComo el caso muy comentado del proyecto que en parte ha financiado Facebook. En un laboratorio\\nde investigación sobre inteligencia artificial de la Universidad Tecnológica de Georgia, el proyecto,\\npara crear una inteligencia artificial capaz de aprender y desarrollar nuevas habilidades de\\nnegociación, dio un vuelco inesperado, para asombro de la empresa. Los responsables del proyecto\\ntuvieron que apagar el proceso porque la inteligencia artificial había desarrollado su propio lenguaje,\\ncasi imposible de descifrar para los investigadores, pero mucho más apto y lógico para la tarea que\\ndebía realizar.\\nComo pudimos notar, a pesar de que la IA, creo su propio lenguaje, fue muy apto, para lo que tenía\\nque desempeñar. Con esto no estoy diciendo que tengamos miedo a la IA, sino que veamos la\\ncapacidad tan grande que tiene para beneficio de la humanidad.\\nAnalicemos algunos rubros donde se utiliza y que ha servido en gran medida para hacernos la vida\\nmás fácil. Nos puede dar la facultad de escuchar y ver mejor, así como dotarnos de nuevas\\ncapacidades. La IA es sin lugar a duda, una tecnología “disruptiva” que en los próximos años puede\\ncambiar el concepto actual del trabajo, además de que puede mejorar nuestra calidad de vida y la\\nsalud de manera significativa.\\nAlgunas aplicaciones que usamos diariamente que utilizan IA y seguro has escuchado de ellas o las\\nutilizado.\\nSiri funciona como un asistente personal, ya que utiliza procesamiento de lenguaje natural.\\nFacebook y Google Fotos sugieren el etiquetado y la compilación de fotos con base al\\nreconocimiento de imagen.\\nAmazon ofrece recomendaciones de productos basadas en modelos de canasta de compra.\\nWaze brinda información optimizada de tráfico y navegación en tiempo real.\\nInteligencia Artificial en la medicina\\nGuillermo Molero Castillo, integrante del laboratorio de Inteligencia Artificial de la Universidad\\nNacional Autónoma de México (UNAM) explicó que la IA “tiene el potencial de cambiar de manera\\nsignificativa la atención médica y la salud del paciente, ya que se pueden detectar enfermedades\\ngenéticas; monitorear la frecuencia cardíaca, presión arterial, temperatura y niveles de glucosa; así\\ncomo analizar los factores ambientales. Al obtener todos estos datos, las bases pueden relacionarse\\ncon otros datos sociales y utilizarse para crear nuevos modelos inteligencia artificial, con los que\\npodrían predecirse ciertas enfermedades, notificar anticipadamente afecciones mortales, como\\nderrames cerebrales y ataques cardíacos, o advertir sobre reacciones adversas a un medicamento”.\\nAunque en México, todavía falta mucho para lograr todo esto, en algunos países, ya se realizan\\nprocedimientos quirúrgicos más fácilmente con la ayuda de la IA, como el caso de la empresa de\\ntecnología sanitaria Digital Surgery en Reino Unido, que desarrolló con éxito el primer sistema de IA\\ndinámico, diseñado para cirugías. Esta compañía construye los datos para promocionar el futuro de la\\ncirugía, por medio de mapas de ruta de procedimientos quirúrgicos patentados, que tienen como\\nfinalidad ayudar al equipo médico a reducir el riesgo y lograr que la cirugía sea más segura.\\nInteligencia artificial en la educación\\nLa IA tiene el poder de transformar trascendentalmente la educación, según lo afirma la UNESCO. De\\nconformidad con la organización, ésta puede simplificar el acceso al aprendizaje, automatizar los\\nprocesos de gestión y optimizar los métodos de enseñanza que permiten mejorar el aprendizaje. Así,\\nmás personas se beneficiarán de programas educativos, además, de que reducirá las tareas\\nrepetitivas de los profesores e impulsará la formación personalizada, mientras da mayor relevancia al\\naprendizaje colaborativo. La IA puede hacer frente a los desafíos tradicionales de la enseñanza en el\\nmarco de las transformaciones.\\nInteligencia artificial en la vida diaria\\nLa IA está en nuestra vida cotidiana más de lo que nos podemos imaginar, por ejemplo, cuando\\ningresamos al estacionamiento de un centro comercial, la placa o matricula de nuestro auto, es\\nreconocida gracias a la IA. Y si hablamos del teléfono móvil, hay muchas formas de IA, que se utiliza.\\nPor ejemplo, para guiarnos, cuando buscamos alguna dirección, o la mejor ruta, nos orienta para\\nllegar a nuestro destino. También cuando interactuamos con nuestro asistente virtual, además,\\ncuando las plataformas de contenidos nos hacen sugerencias que se adaptan a nuestras\\npreferencias. También cuando nuestro celular reconoce nuestra huella digital o nuestro rostro. En la\\ncasa, podemos utilizar la IA, para climatizar, encender o apagar luces o cuando la televisión, el\\nrefrigerador o la lavadora, conectadas al internet, hacen diversas funciones, como iniciar el ciclo de\\nlavado, aunque estemos fuera de casa y así podríamos seguir enumerando muchas más actividades\\ncotidianas donde interviene la IA. (Botti, 2019)\\nExisten otras áreas donde la IA está tomando mucha relevancia, como en la agricultura, la ciencia, la\\naeronáutica, la electrónica, la computación, entre otras.\\nComo pudimos notar, la IA cada día toma mayor trascendencia en la vida del ser humano, sus\\nimplicaciones han llevado a considerarla como algo muy útil y necesario, que nos ha servido para\\nmejorar la calidad vida', doc_id='144efc36-324f-4858-803f-f7b45f7bd5ca', embedding=None, doc_hash='661de5d1e272423f85f9da18f7c15efda9c2db8bdac3df3f4bb9a33ff6b00b80', extra_info=None),\n",
       " Document(text='La Inteligencia Artificial En La Educación Del Futuro\\nLa aplicación de la inteligencia artificial en la educación está cada vez más cerca de ser una realidad.\\nEl aprovechamiento de la tecnología es un reto necesario en la actualidad para todos a la hora de\\nbuscar una educación de calidad.\\nEn primer lugar nos planteamos una cuestión básica: ¿Qué es la inteligencia artificial (IA)? Podemos\\ncontestar esto de una forma sencilla para aclarar términos.\\nPor inteligencia artificial entendemos aquella tecnología que es consciente de su entorno y que lleva a\\ncabo sus tareas siendo capaz de maximizar sus posibilidades de éxito. Estas tareas suelen implicar\\ncosas como planificación, investigación, procesamiento del lenguaje y reconocimiento facial.\\nLa investigación de la IA empezó en 1956, pero hoy en día resulta más relevante que nunca. Desde\\nSiri y Alexa hasta el más reciente Google AI, estamos en un mundo destinado a estar cada vez más\\nmoldeado por la inteligencia artificial.\\nLa IA en la vida cotidiana\\nYa existen casas inteligentes y coches que conducen solos. Esto todavía no está al alcance de todos,\\npero es algo real. Además, el impacto de la IA en la vida diaria es tan generalizado que, muchas\\nveces, ni somos conscientes de que estamos interactuando con ella.\\nPensemos en videojuegos con personajes que reaccionan y se adaptan a la forma en que juega el\\nusuario. Estos son un ejemplo claro de IA que casi damos por sentado. Pasa lo mismo con las\\npredicciones de compra que nos enseñan productos antes de que los necesitemos, o las\\nrecomendaciones de películas en Netflix.\\nLos bancos también utilizan tecnologías parecidas al monitorear el fraude. Además, muchos sitios\\nweb utilizan la IA para su apoyo al cliente. Wired, Yahoo, Fox y Associated Press aseguran utilizar la\\nInteligencia Artificial para crear contenido. La IA no puede reemplazar a un periodista de\\ninvestigación, pero sí puede hacer cosas sencillas como publicar resultados deportivos.\\nInteligencia artificial en la educación\\nEntonces nos preguntamos ¿dónde podemos encontrar la inteligencia artificial en la educación y en\\nnuestros colegios? ¿qué puede hacer la IA para cambiar la educación en el futuro?\\nHoy en día el debate sobre el papel de la IA en las escuelas está activo en plataformas como Brainly,\\nuna red social donde los alumnos se encuentran para colaborar. Compañías como CTI están creando\\nlibros de texto personalizados atendiendo a las necesidades concretas de los alumnos.\\nLa IA, además, ya está mejorando los métodos tradicionales de enseñanza y corrigiendo sus\\ndeficiencias. Los maestros tienen un tiempo concreto para interaccionar con los alumnos pero una IA\\npuede estar disponible para los estudiantes las 24 horas del día.\\nAsí que puede fomentar el aprendizaje a distancia. Incluso puede manejar muchas tareas\\nadministrativas aburridas, lo que permitiría a los profesores tener más tiempo para centrarse en los\\nalumnos.\\nEl futuro de la inteligencia artificial en la educación\\nResulta evidente que la IA ha llegado para quedarse, pero ¿hacia dónde estamos yendo?\\nInnovaciones como Realidad Aumentada, Virtual y Mixta tendrán un papel cada vez más importancia\\na la hora de facilitar a los estudiantes una experiencia más atractiva en el aula.\\nEncontrar los recursos adecuados en el momento adecuado será más rápido y fácil de lo que ya es.\\nDe este modo los alumnos podrán personalizar su experiencia de aprendizaje. Una AI será capaz de\\nidentificar las áreas en las que los estudiantes tienen más problemas y encontrar el método correcto\\npara mejorar su rendimiento.\\nAnte el planteamiento de si los maestros terminarán siendo algo no necesario la respuesta resulta\\nclara: no. El papel de un educador va más allá de la simple entrega de información de una forma\\neficaz.\\nSi bien la AI pueden ser un gran activo para los docentes, los profesores están destinados a enseñar\\na los estudiantes otras cosas además de conocimientos. Por ejemplo cuál puede ser su lugar en el\\nmundo. Los dirigirán para que lleguen a convertirse en adultos con éxito a través del conocimiento, y\\ntambién, los educarán en aprendizaje social y emocional.\\nSólo los seres humanos pueden educar a los niños para que se conviertan en grandes seres\\nhumanos en el futuro.\\nLas nuevas generaciones también necesitarán aprender habilidades sociales, autoconciencia e\\nindicaciones sobre cómo tomar decisiones. Estas habilidades nunca podrían ser enseñadas por una\\nmáquina.\\nEn definitiva, aunque la IA será muy útil en el futuro y ayudará en la educación, nunca será útil sin\\nprofesores competentes que sepan cómo utilizarla en su beneficio y en el beneficio de sus alumnos.', doc_id='f53c87a0-1da2-425b-be31-a8bf7b3b7a59', embedding=None, doc_hash='16d1f84ab2475f8dd36ea875797f8dfb83aa08423c562eb86bead813c2320f2a', extra_info=None),\n",
       " Document(text='La Inteligencia Artificial y la Próxima Revolución Científica\\nIntroducción\\nHoy en día, la inteligencia artificial esta siendo aplicada en numerosas ramas de la ciencia y campos\\nlaborales, esta ayudando a los humanos a hacer predicciones, a desarrollar proyectos y soluciones\\ninnovadoras, a diseñar nuevos productos y nuevos sistemas, etc. La inteligencia artificial esta\\nsustituyendo la forma tradicional de hacer las cosas, esta reemplazando los procesos repetitivos y\\ncon probabilidades de error que realizamos los humanos por sistemas computarizados precisos que\\nhacen los procesos más eficientes. Esta tecnología va avanzando cada día y es lo que nos espera en\\nel futuro cercano.\\nEn este documento se describe un poco de la historia de cómo los humanos hemos venido\\nanalizando los datos durante décadas y como llegamos al punto de trabajar con la inteligencia\\nartificial. Se describen algunos ejemplos de casos exitosos en que esta tecnología ha sido aplicada y\\ncomo ha impactado a las empresas. Se muestra un análisis y opinión personal acerca del tema\\ncontrastado con la realidad del país.\\nDesarrollo\\nEl primer artículo, “La próxima Revolución Científica”, nos comienza describiendo un poco acerca de\\ncómo el hecho de tener almacenados enormes cantidades de datos nos ha permitido obtener\\nrespuestas a diferentes problemáticas del mundo. Hoy en día, los científicos de la computación\\ncontinúan trabajando de la mano con científicos de otras disciplinas como ser la biología, química,\\nastronomía, física, etc. para poder seguir buscando soluciones alternativas y revolucionarias\\nprincipalmente en temas de energía y salud.\\nDurante años, los científicos de la computación han tratado de diseñar programas para que las\\ncomputadoras puedan pensar como humanos científicos o expertos de diferentes ramas, pero a\\npesar de hacer los mejores intentos estos fracasaban. Siempre las ideas innovadoras provenían un\\ncientífico, un ingeniero o un especialista del área. Sin embargo, nos estamos enfrentando a una\\nnueva problemática: el exceso de datos. Se cuenta con tanta información que esta superando la\\ncapacidad de que tenemos de poder almacenarla, organizarla y analizarla. Debido a esto, Jim Gay\\npropone algo llamado “el cuarto paradigma” de la exploración científica, el cual nos da una visión de\\nnuevas herramientas que nos servirán para poder visualizar y analizar los datos para poder responder\\na las nuevas problemáticas globales.\\nEl primer paradigma proviene a partir de las antiguas culturas de China y Grecia en donde el método\\nexperimental consistía en que las personas daban una explicación a sus observaciones según causas\\nnaturales en vez de causas supernaturales. El segundo paradigma nace en el siglo 17 con Isaac\\nNewton en donde se hacían predicciones validando hipotesis mediante distintas pruebas. El tercer\\nparadigma lo encontramos en el siglo 20 ya que el desarrollo de las computadoras permitió poder\\nrealizar simulaciones para poder dar respuestas en áreas donde era imposible hacerlo mediante\\nexperimentación y teoría. El cuarto paradigma consiste con el uso de computadoras potentes que nos\\npermitan hacer minería de datos en enormes bases de datos para poder encontrar relaciones entre\\nlos datos y dar respuestas a problemáticas globales mucho más complejas. Aun así, el cuarto\\nparadigma no pretende reemplazar ninguna de las tres metodologías ni a los científicos.\\nUn concepto importante de mencionar sobre el artículo es el “aprendizaje de máquina”, el cual\\nconsiste en un programa diseñado para revisar minuciosamente una base de datos amplia para poder\\nencontrar patrones, similitudes y probabilidades. Esto le permite a la computadora poder “aprender” e\\nir afinando los resultados estimados.\\nCon el gran poder computacional que se ha alcanzado en el siglo 21 en el almacenamiento de datos,\\nla minería de información y el asertivo análisis e interpretación de dichos datos, sumado la\\nexperiencia de los científicos y el aprendizaje de máquina, ha dado paso a que hoy por hoy se estén\\nlogrando grandes avances a nivel mundial. Esta tecnología y el análisis de datos ha permito la\\ninvestigación de los océanos, descubrimientos en la astronomía, soluciones para enfermedades como\\nel descubrimiento de formas de como detener el VIH y soluciones a sequías. A parte de todo el\\nconocimiento que estamos obtenidos y los cambios positivos que se están generando en el mundo, el\\ncuarto paradigma abrirá oportunidades de negocio que están ligadas a las soluciones encontradas.\\nEs muy importante recordar que para poder solucionar los grandes problemas de la sociedad, todas\\nlas disciplinas deben de trabajar conjuntamente.\\nEl segundo artículo, “Coda Coffee y la cadena de suministro bext360: Visión de máquina, inteligencia\\nartificial, internet de las cosas y cadena de bloques” nos narra la historia de dos hermanos Tim y\\nTommy Thwaites, los fundadores de Coda Coffee que crecieron dentro del negocio del café en\\nSeattle. En la década de 1990, ambos hermanos comenzaron a trabajar en Dillanos Coffee Roasters\\ncon puestos de nivel jerárquico bajo. Luego de un par de años Tommy se convirtió en el\\nvicepresidente de la empresa y Tim obtuvo un ascenso como jefe de tostadores.\\nA raíz de los ataques terroristas ocurridos en el 2001, dieron un giro a su vida y se mudaron a\\nColorado donde ambos terminaron trabajando en empresas de un rubro muy diferente al café.\\nDurante esa etapa, Tom Thwaites, el padre de ambos hermanos, estaba enfrentando problemas\\ncardiacos lo cual lo obligo a jubilarse antes de tiempo. Del dinero de su jubilación, Tom les dio a sus\\nhijos $150,000. Es así como los hermanos logran fundar en 2005 “Coda Coffee”, la tienda local\\nmayorista de café en Denver Colorado.\\nCoda Coffee comenzó como un proveedor mayorista de café premium, el 95% de sus clientes\\nincluían distribuidores, cafés, restaurantes, y grandes proveedores en la industria de los alimentos. El\\nconsumidor final no tenía conocimiento de que él estaba tomando café Coda, únicamente disfrutaban\\nde una taza de café y esta es la razón por la cual los cliente de Coda Coffee basaban su compra\\nsobre la calidad y el precio del café.\\nDurante ese tiempo, el 80% del café del mundo venía de 25 millones de distintos pequeños\\nagricultores con mano de obra casi solo dentro del núcleo familiar. Estos tenían pequeñas parcelas\\nde tierras en las cuales cultivaban varios productos principalmente para subsistencia y unos cuantos\\npara la venta. Las certificaciones de Comercio Justo tenían como objetivo conectar a los productores\\ny los consumidores, para que los productores pudieran recibir un salario justo y pudieran aprender\\nacerca de las mejores prácticas agrícolas sostenibles. El comercio justo representada para Coda\\nCoffee cerca del 40% del abastecimiento de su café, sin embargo, tenía una gran limitante ya que el\\ngrano de café era de baja calidad.\\nAnte la problemática de la calidad del grano del consumo justo, en 2001 Coda Coffee presentó un\\nprograma de certificación llamada Farm2Cup. Para poder obtener la certificación, los productores de\\ncafé Debian de recibir entrenamientos sobre defectos de calidad y se debían de comprometer a\\ndetectarlos y minimizarlos para mejorar la calidad del café. Se abrieron cooperativas entre varios\\npequeños productores para poder influir sobre las prácticas de cultivo sostenible, estas permitieron\\nque los productores pudieran adquirir múltiples equipos de procesamiento de café para el\\nmejoramiento de la calidad en su proceso. Como consecuencia del programa de certificación\\nFarm2Cup, los productores certificados obtenían primas más significativas por su café de alta calidad\\ny había un mayor compromiso por la mejora continua.\\nEn 2013, Coda Coffee se certificó como una “Empresa B” ya que cumplía con los más altos\\nestándares desempeño social y ambiental, transparencia publica y responsabilidad legal. Al final del\\nmismo año Coda Coffee fue nombrado por la revista Roast Magazine como el “Macrotostador del\\nAño” debido a su dedicación a las practicas sostenibles, el compromiso con los empleados y la\\neducación en calidad del café.\\nDaniel Jones, fundador de bext360 y matemático egresado de la Universidad de Cornell, desarrolló\\nuna máquina con inteligencia artificial que podía determinar la calidad de los minerales. Dicha\\nmáquina era tan precisa que los mineros confiaban más en las lecturas digitales que en la de los\\nseres humanos. Luego Jones decidió dar un giro y apuntaría a introducirse en el rubro de cadenas de\\nsuministro de café, es ahí donde conoce a Tommy Thwaites y rápidamente deciden formar una\\nasociación. Ellos vieron el gran potencial en aplicar la visión de máquina, la inteligencia artificial y el\\ninternet de las cosas para poder determinar la calidad del café. La capacidad humana para evaluar y\\ncomparar variables es limitada, por lo tanto, unieron la percepción visual de calidad humano y la\\nvisión de maquina con la capacidad computacional de la inteligencia artificial para poder determinar\\ncon precisión la calidad del grano de café. Con el internet de las cosas se tenía la capacidad de\\nconectarse a internet o a la nube por medio de dispositivos tradicionales como ser la computadora.\\nEn cada paso del proceso había una máquina analizando por medio de inteligencia artificial los\\ngranos de café, los resultados de estos análisis automáticamente se registraban en una base de\\ndatos en la nube asegurando la transparencia y la calidad de su producto en todo el proceso. Muy\\npronto este proyecto fue lanzado como un software con licencia.\\nEl tercer artículo, “Artificial Intelligence in the Recruitment & Selection: Innovation And Impacts For\\nThe Human Resources Management”, nos da una nueva perspectiva y nos explica como la\\ninteligencia artificial puede tener impactos no solo en la ciencia si no también puede impactar a la\\nfuerza laboral por medio del proceso del reclutamiento y selección.\\nEl proceso de R&S (Reclutamiento y Selección) es uno de los procesos principales del área de\\nrecursos humanos ya que implica la elección de personas mediante la identificación de sus\\ncaracterísticas, competencias y valores los cuales deben estar alineado con los objetivos estratégicos\\nde las empresas. Cada proceso de reclutamiento tiene un costo y este puede ser medido en base a la\\ncantidad de horas que el reclutador dedica a la búsqueda de candidatos, evaluación de perfiles,\\nentrevistas, aplicación de exámenes psicométricos, etc. todo este tiempo pudo haber sido dedicado a\\nla realización de actividades de estrategia que agreguen valor. Si todo este proceso se lleva a cabo\\nsin la seriedad ni la ética debida, olvidando los objetivos de la compañía, puede traer consecuencias\\ngraves a la compañía.\\nLa inteligencia artificial pretende ser usado como un instrumento integral del departamento de\\nrecursos humanos que permita que los procesos sean agiles mediante en el uso de la computadora y\\nel aprendizaje de la máquina, a través de la organización de información correspondiente a los\\nprocesos de selección de la empresa, con el objetivo de la automatización de las tareas realizadas\\npor personas, dándole a la computadora la autonomía para ejercerlas. Esto trae como consecuencia\\nvarios beneficios en la efectividad organizacional, tales como: reducción de errores, reducción de los\\ntiempos de resolución de problemas; mayor productividad y flexibilidad en la cual se considera la\\nposibilidad de almacenar la información y un mejor uso de la acción humana.\\nTambién se puede utilizar para evaluar los comportamientos y habilidades de los candidatos en\\nsituaciones reales. Además de eso, la inteligencia artificial ayuda en la unión entre candidatos y\\nempresas, debido a la referencia cruzada de información de perfil de la compañía previamente\\nperfilada para crear un modelo de candidato ideal. Las nuevas vacantes se comparan con este\\nmodelo, con respecto a las pruebas, la experiencia, la información general del plan de estudios, con\\nel fin de verificar la similitud con el perfil ideal. Es un análisis de cuán favorable es cada candidato\\npara ser el ideal para llenar una vacante en la organización. Esto puede facilitar las rutinas de los\\nreclutadores y ayuda al departamento de recursos humanos a posicionarse cada vez más\\nestratégicamente dentro de su empresa, canalizando el esfuerzo y el tiempo en actividades que la\\nmáquina no puede reemplazar. Además, facilita la relación con los candidatos de las nuevas\\ngeneraciones, acostumbrados a relacionarse con las computadoras, como facilitadores del día a día.\\nAquellas empresas que deseen destacarse y alcanzar ventajas competitivas, deberán estar atentas a\\nlas nuevas formas de atracción de talentos. Sin embargo, cambios como los provocados por la\\ninclusión de nuevas tecnologías pueden traer mucha inseguridad a los empleados, ya sea por el\\ndesconocimiento del uso de esta tecnología o por la ansiedad de poder ser sustituidos y perder sus\\nempleos. Por lo tanto, es de mucha importancia que las organizaciones se preparen para esta nueva\\netapa.\\nAnálisis Personal\\nLa inteligencia artificial se ha convertido en una base fundamental de la tecnología ya que en un\\nfuturo no muy lejano se tiene como intención de que las computadoras tengan la capacidad de tener\\nun funcionamiento propio, es decir, libre de cualquier intervención humana. Esto nos anticipa a que\\npodamos proyectarnos en un futuro muy desarrollado. A medida pasan los años, se suman\\ndescubrimientos y proyectos que en algún momento pensábamos que fuesen imposibles de lograr.\\nEs evidente como en la historia, los humanos cada vez hemos ido mejorando la tecnología, pero\\nsiempre que se habla de este tema vemos como son ciertos países los que resaltan. Muchos países\\nde la región de Latinoamérica y el Caribe apenas están generando conciencia sobre la importancia\\ndel desarrollo de la inteligencia artificial. Considero que existe una desconexión entre la tecnología y\\nlos países en desarrollo.\\nLa tecnología está avanzando rápidamente de forma global y trae consigo muchos cambios los\\ncuales obliga a que las empresas y los gobiernos inviertan en la parte tecnológica, ya que si no lo\\nhacen se están quedando atrás. La tecnología de la inteligencia artificial la podemos encontrar en\\ndistintos rubros como ser: alimentos, bebidas, hospitales, hoteles, etc. e incluso dentro de\\ndepartamentos de empresas como ser recursos humanos. Esto nos indica que es un cambio fuerte\\nque ya esta sucediendo en la actualidad y que en el futuro será la base. Por lo tanto, las empresas en\\nHonduras deben optar por la transformación digital, para impulsar este cambio hay una iniciativa\\nprivada liderada por Banco Atlántida llamada “Honduras Digital Challenge”, en este programa se\\npretende promover el desarrollo de negocios tecnológicos o también llamados “start up”. Pero hace\\nfalta mucho mas que algunos programas para poder llevar todo un país a un cambio tan grande y en\\npoco tiempo.\\nLa realidad del país es preocupante ya que un gran porcentaje de la población no sabe leer, no sabe\\nutilizar una computadora y únicamente tiene acceso a los servicios básicos. La pobre calidad de la\\neducación en nuestro país nos impide poder avanzar con el ritmo en que se está moviendo la\\ntecnología y nos estamos quedando muy por detrás. Muchos de los puestos de trabajos actuales que\\nrealizan los seres humanos serán reemplazados por maquinas y sistemas automatizados, pero con\\neste cambio surgirán nuevos puestos de trabajo. La educación juega un papel importante ya que los\\ncentros educativos están preparando a los alumnos en las carreras convencionales y no para las\\ncarreras del futuro.\\nLa incertidumbre del no saber lo que pasará con la inclusión total de la inteligencia artificial en las\\nactividades cotidianas del ser humano es algo que causa muchas dudas y debates. Pero de lo que no\\npodemos dudar es que esto ya es una realidad que avanza con rapidez y que lo mínimo que\\npodemos hacer es prepararnos para no quedarnos fuera. El mundo y la tecnología avanza, y no se va\\na detener simplemente porque un país o una empresa no se adapta.\\nConclusiones\\nDel siguiente ensayo podemos concluir que la inteligencia artificial existe desde hace décadas atrás y\\ncon la investigación de los científicos de la computación ha venido mejorando. Es una realidad que se\\nestá viviendo de forma global y a medida se vaya fortaleciendo formará de nuestra vida cotidiana.\\nLa implementación de esta tecnología traerá cambios al ser humano, uno muy importante será el giro\\nen los puestos de trabajo ya que muchas actividades repetitivas y con margen de error realizadas por\\nseres humanos serán sustituidas por máquinas precisas. Debido a ello, los sistemas educativos\\ndeben de transformarse para preparar a profesionales capaces de enfrentarse al futuro cercano que\\nnos espera.\\nEsta tecnología traerá beneficios a todo tipo de empresas ya que su campo aplicación no esta\\nlimitado a una industria en particular. Esta facilitando descubrimientos importantes en distintas\\nciencias y demás está permitiendo la generación de nuevas empresas categorizadas como “start up”.\\nEl futuro que nos espera a los seres humanos con la implementación de la inteligencia artificial es un\\ntema que causa mucho debate por las diferentes opiniones de expertos que existen en la actualidad.\\nDebemos de tener claro que la implementación de esta tecnología debe de ir de la mano con\\nestrategias de previsión que nos permita adaptarnos a los diferentes escenarios a los cuales nos\\npodemos enfrentar.', doc_id='42bebf3b-1b5e-42d0-9622-a8983b2c727f', embedding=None, doc_hash='eca44190e59d7ea9f759a1823aa52fcb00275171f703d7778e9007be62723822', extra_info=None)]"
      ]
     },
     "execution_count": 14,
     "metadata": {},
     "output_type": "execute_result"
    }
   ],
   "source": [
    "docs = SimpleDirectoryReader('datos').load_data()\n",
    "docs"
   ]
  },
  {
   "cell_type": "code",
   "execution_count": 15,
   "metadata": {},
   "outputs": [
    {
     "data": {
      "text/plain": [
       "list"
      ]
     },
     "execution_count": 15,
     "metadata": {},
     "output_type": "execute_result"
    }
   ],
   "source": [
    "type(docs)"
   ]
  },
  {
   "cell_type": "code",
   "execution_count": 16,
   "metadata": {},
   "outputs": [],
   "source": [
    "max_input = 4098\n",
    "tokens = 256\n",
    "chnk_size = 600\n",
    "max_chnk_overlap = 20"
   ]
  },
  {
   "cell_type": "code",
   "execution_count": 17,
   "metadata": {},
   "outputs": [],
   "source": [
    "prompt_helper = PromptHelper(max_input,tokens,max_chnk_overlap,chunk_size_limit=chnk_size)"
   ]
  },
  {
   "cell_type": "code",
   "execution_count": 26,
   "metadata": {},
   "outputs": [],
   "source": [
    "modelo = LLMPredictor(llm=OpenAI(temperature=0,model_name='text-ada-001',max_tokens=tokens)) # type: ignore\n",
    "contexto = ServiceContext.from_defaults(llm_predictor=modelo,prompt_helper=prompt_helper)\n",
    "index_model = GPTVectorStoreIndex.from_documents(docs,service_context=contexto)\n",
    "index_model.storage_context.persist('modelo')"
   ]
  },
  {
   "cell_type": "code",
   "execution_count": 35,
   "metadata": {},
   "outputs": [],
   "source": [
    "def chatbot(inputText):\n",
    "    # rebuild storage context\n",
    "    storage_context = StorageContext.from_defaults(persist_dir='modelo')\n",
    "    modelo = load_index_from_storage(storage_context)\n",
    "    query_engine = modelo.as_query_engine()\n",
    "    respuesta = query_engine.query(inputText)\n",
    "    return respuesta"
   ]
  },
  {
   "cell_type": "code",
   "execution_count": 38,
   "metadata": {},
   "outputs": [
    {
     "name": "stdout",
     "output_type": "stream",
     "text": [
      "Running on local URL:  http://127.0.0.1:7864\n",
      "\n",
      "To create a public link, set `share=True` in `launch()`.\n"
     ]
    },
    {
     "data": {
      "text/html": [
       "<div><iframe src=\"http://127.0.0.1:7864/\" width=\"100%\" height=\"500\" allow=\"autoplay; camera; microphone; clipboard-read; clipboard-write;\" frameborder=\"0\" allowfullscreen></iframe></div>"
      ],
      "text/plain": [
       "<IPython.core.display.HTML object>"
      ]
     },
     "metadata": {},
     "output_type": "display_data"
    },
    {
     "data": {
      "text/plain": []
     },
     "execution_count": 38,
     "metadata": {},
     "output_type": "execute_result"
    }
   ],
   "source": [
    "app = gr.Interface(fn=chatbot,\n",
    "            inputs=gr.Textbox(lines=5,label='Ingresa una peticion'),\n",
    "            outputs='text',\n",
    "            title='ChatBot')\n",
    "\n",
    "app.launch(share=False)"
   ]
  },
  {
   "cell_type": "code",
   "execution_count": null,
   "metadata": {},
   "outputs": [],
   "source": []
  }
 ],
 "metadata": {
  "kernelspec": {
   "display_name": "chatbot",
   "language": "python",
   "name": "python3"
  },
  "language_info": {
   "codemirror_mode": {
    "name": "ipython",
    "version": 3
   },
   "file_extension": ".py",
   "mimetype": "text/x-python",
   "name": "python",
   "nbconvert_exporter": "python",
   "pygments_lexer": "ipython3",
   "version": "3.11.3"
  },
  "orig_nbformat": 4
 },
 "nbformat": 4,
 "nbformat_minor": 2
}
