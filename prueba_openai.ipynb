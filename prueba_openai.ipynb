{
 "cells": [
  {
   "cell_type": "code",
   "execution_count": 10,
   "metadata": {},
   "outputs": [
    {
     "name": "stdout",
     "output_type": "stream",
     "text": [
      "\n",
      "\n",
      "ChatGPT es un motor de chat natural basado en el lenguaje y el reconocimiento de patrones, que permite a los usuarios interactuar con un sistema informático como si estuvieran conversando con otra persona. El motor de ChatGPT es capaz de identificar los patrones de lenguaje de los usuarios, ofreciendo respuestas inteligentes basadas en el lenguaje natural.\n"
     ]
    }
   ],
   "source": [
    "import os\n",
    "import openai\n",
    "from dotenv import load_dotenv\n",
    "\n",
    "load_dotenv('.env')\n",
    "\n",
    "openai.api_key = os.environ.get('PRUEBA_SECRET_KEY')\n",
    "\n",
    "chatbot = openai.Completion.create(engine='text-davinci-003',prompt='Que es chatGPT?',max_tokens=2048)\n",
    "\n",
    "print(chatbot.choices[0].text) # type: ignore"
   ]
  },
  {
   "cell_type": "code",
   "execution_count": null,
   "metadata": {},
   "outputs": [],
   "source": []
  }
 ],
 "metadata": {
  "kernelspec": {
   "display_name": "chatbot",
   "language": "python",
   "name": "python3"
  },
  "language_info": {
   "codemirror_mode": {
    "name": "ipython",
    "version": 3
   },
   "file_extension": ".py",
   "mimetype": "text/x-python",
   "name": "python",
   "nbconvert_exporter": "python",
   "pygments_lexer": "ipython3",
   "version": "3.11.3"
  },
  "orig_nbformat": 4
 },
 "nbformat": 4,
 "nbformat_minor": 2
}
